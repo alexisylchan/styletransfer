{
 "cells": [
  {
   "cell_type": "markdown",
   "metadata": {},
   "source": [
    "#  Fast Style Transfer (A Deep Learning method) on NASA Images"
   ]
  },
  {
   "cell_type": "code",
   "execution_count": null,
   "metadata": {
    "collapsed": true
   },
   "outputs": [],
   "source": [
    "from PIL import Image, ImageEnhance\n",
    "from IPython.display import Image as DisplayImage\n",
    "import evaluate as evalstyle\n",
    "import urllib, json"
   ]
  },
  {
   "cell_type": "markdown",
   "metadata": {},
   "source": [
    "## Helper methods "
   ]
  },
  {
   "cell_type": "code",
   "execution_count": null,
   "metadata": {
    "collapsed": true
   },
   "outputs": [],
   "source": [
    "def enhance_img(filename):\n",
    "    img = Image.open(filename)\n",
    "    contrast = ImageEnhance.Contrast(img)\n",
    "    img2  = contrast.enhance(1.5)    \n",
    "    img2.save(filename, 'JPEG')"
   ]
  },
  {
   "cell_type": "code",
   "execution_count": null,
   "metadata": {
    "collapsed": false
   },
   "outputs": [],
   "source": [
    "# Credit: http://stackoverflow.com/a/37757378/6887859 \n",
    "def pp_json(json_thing, sort=True, indents=4):\n",
    "    if type(json_thing) is str:\n",
    "        print(json.dumps(json.loads(json_thing), sort_keys=sort, indent=indents))\n",
    "    else:\n",
    "        print(json.dumps(json_thing, sort_keys=sort, indent=indents))\n",
    "    return None"
   ]
  },
  {
   "cell_type": "markdown",
   "metadata": {},
   "source": [
    "## Pre-trained models\n",
    "Model credit:\n",
    "- https://drive.google.com/drive/folders/0B9jhaT37ydSyRk9UX0wwX3BpMzQ \n",
    "- Several models are trained from NASA APOD images:\n",
    "    - psychedelic.ckpt is trained from http://apod.nasa.gov/apod/ap160815.html\n",
    "    - purple.ckpt is trained from http://apod.nasa.gov/apod/ap160909.html \n",
    "\n",
    "See all available pre-trained models"
   ]
  },
  {
   "cell_type": "code",
   "execution_count": null,
   "metadata": {
    "collapsed": false
   },
   "outputs": [],
   "source": [
    "ls stylemodels/"
   ]
  },
  {
   "cell_type": "markdown",
   "metadata": {},
   "source": [
    "## Pre-downloaded images\n",
    "See all available pre-downloaded images from NASA Apod http://apod.nasa.gov/"
   ]
  },
  {
   "cell_type": "code",
   "execution_count": null,
   "metadata": {
    "collapsed": false
   },
   "outputs": [],
   "source": [
    "ls images/"
   ]
  },
  {
   "cell_type": "markdown",
   "metadata": {},
   "source": [
    "## Example style transfer "
   ]
  },
  {
   "cell_type": "code",
   "execution_count": null,
   "metadata": {
    "collapsed": true
   },
   "outputs": [],
   "source": [
    "input_image = 'images/m8-miller_walker_downsampled.jpg'\n",
    "input_style = 'stylemodels/scream.ckpt'\n",
    "output_image = 'results/scream_milkyway.jpg'"
   ]
  },
  {
   "cell_type": "code",
   "execution_count": null,
   "metadata": {
    "collapsed": false,
    "scrolled": true
   },
   "outputs": [],
   "source": [
    "evalstyle.ffwd_to_img(input_image, output_image, input_style)\n",
    "DisplayImage(filename=output_image)"
   ]
  },
  {
   "cell_type": "code",
   "execution_count": null,
   "metadata": {
    "collapsed": false
   },
   "outputs": [],
   "source": [
    "# Optional: You can enhance the image above by increasing the contrast level if you want to \n",
    "enhance_img(output_image)\n",
    "DisplayImage(filename=output_image)"
   ]
  },
  {
   "cell_type": "markdown",
   "metadata": {},
   "source": [
    "# Choose your own adventure\n",
    "Get an image from NASA APOD via the APOD API."
   ]
  },
  {
   "cell_type": "markdown",
   "metadata": {},
   "source": [
    "Get your API key here: https://api.nasa.gov/index.html#apply-for-an-api-key\n",
    "\n",
    "Or you can choose to use the demo key for this demo"
   ]
  },
  {
   "cell_type": "code",
   "execution_count": null,
   "metadata": {
    "collapsed": false
   },
   "outputs": [],
   "source": [
    "api_key = 'DEMO_KEY'"
   ]
  },
  {
   "cell_type": "markdown",
   "metadata": {},
   "source": [
    "Choose your own date! Expected format:  yyyy-mm-dd"
   ]
  },
  {
   "cell_type": "code",
   "execution_count": null,
   "metadata": {
    "collapsed": true
   },
   "outputs": [],
   "source": [
    "favorite_date = '2008-06-16'"
   ]
  },
  {
   "cell_type": "code",
   "execution_count": null,
   "metadata": {
    "collapsed": false
   },
   "outputs": [],
   "source": [
    "# Construct the url string\n",
    "url = 'https://api.nasa.gov/planetary/apod?api_key=' + api_key + '&date=' + favorite_date\n",
    "\n",
    "# Get the metadata from NASA Apod's site. This is the equivalent of opening the url in your browser.\n",
    "json_result = urllib.urlopen(url).read()\n",
    "\n",
    "# Pretty print the json response from NASA Apod\n",
    "pp_json(json_result)"
   ]
  },
  {
   "cell_type": "markdown",
   "metadata": {},
   "source": [
    "### For this tutorial, we will handle only images. So if you see the media_type says \"video\", please choose another date and rerun the two steps above\n",
    "APOD also serves video in mp4. Let me know if you have a GPU or a lot of patience and want to try style transfer on a video."
   ]
  },
  {
   "cell_type": "code",
   "execution_count": null,
   "metadata": {
    "collapsed": false
   },
   "outputs": [],
   "source": [
    "img_metadata = json.loads(json_result)\n",
    "img_url = img_metadata['url']\n",
    "print ('Loading ' + img_url + ' from APOD...')"
   ]
  },
  {
   "cell_type": "code",
   "execution_count": null,
   "metadata": {
    "collapsed": false
   },
   "outputs": [],
   "source": [
    "# Save the image file from NASA APOD\n",
    "new_filename = 'coma_hst.jpg'\n",
    "new_filename_path = 'images/' + new_filename\n",
    "f = open(new_filename_path, 'wb')\n",
    "f.write(urllib.urlopen(img_url).read())\n",
    "f.close()"
   ]
  },
  {
   "cell_type": "code",
   "execution_count": null,
   "metadata": {
    "collapsed": false
   },
   "outputs": [],
   "source": [
    "# Make sure you got the right image!\n",
    "DisplayImage(filename=new_filename_path)"
   ]
  },
  {
   "cell_type": "markdown",
   "metadata": {},
   "source": [
    "## Now we repeat the style transfer above with the file you just downloaded\n",
    "Remember to choose your own model!"
   ]
  },
  {
   "cell_type": "code",
   "execution_count": null,
   "metadata": {
    "collapsed": true
   },
   "outputs": [],
   "source": [
    "input_image = new_filename_path\n",
    "input_style = 'stylemodels/wreck.ckpt'\n",
    "output_image = 'results/wreck_coma.jpg'"
   ]
  },
  {
   "cell_type": "code",
   "execution_count": null,
   "metadata": {
    "collapsed": false,
    "scrolled": true
   },
   "outputs": [],
   "source": [
    "evalstyle.ffwd_to_img(input_image, output_image, input_style)\n",
    "DisplayImage(filename=output_image)"
   ]
  },
  {
   "cell_type": "code",
   "execution_count": null,
   "metadata": {
    "collapsed": false
   },
   "outputs": [],
   "source": [
    "# Optional: You can enhance the image above by increasing the contrast level if you want to \n",
    "enhance_img(output_image)\n",
    "DisplayImage(filename=output_image)"
   ]
  },
  {
   "cell_type": "code",
   "execution_count": null,
   "metadata": {
    "collapsed": true
   },
   "outputs": [],
   "source": []
  }
 ],
 "metadata": {
  "kernelspec": {
   "display_name": "Python 2",
   "language": "python",
   "name": "python2"
  },
  "language_info": {
   "codemirror_mode": {
    "name": "ipython",
    "version": 2
   },
   "file_extension": ".py",
   "mimetype": "text/x-python",
   "name": "python",
   "nbconvert_exporter": "python",
   "pygments_lexer": "ipython2",
   "version": "2.7.6"
  }
 },
 "nbformat": 4,
 "nbformat_minor": 1
}
